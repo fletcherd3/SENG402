{
 "cells": [
  {
   "cell_type": "markdown",
   "metadata": {
    "pycharm": {
     "name": "#%% md\n"
    },
    "tags": []
   },
   "source": [
    "# Storm Detection"
   ]
  },
  {
   "cell_type": "markdown",
   "metadata": {
    "tags": []
   },
   "source": [
    "## Setup\n",
    "**Note:** This Notebook must be run in a UC Lab machine as it needs access to the CSSE Research drive. You also may need to gain read access from Richard to the drive."
   ]
  },
  {
   "cell_type": "markdown",
   "metadata": {},
   "source": [
    "### Imports"
   ]
  },
  {
   "cell_type": "code",
   "execution_count": 5,
   "metadata": {
    "pycharm": {
     "name": "#%%\n"
    }
   },
   "outputs": [],
   "source": [
    "%matplotlib inline\n",
    "\n",
    "import os\n",
    "import random\n",
    "import numpy as np\n",
    "from matplotlib import pyplot as plt\n",
    "import cv2\n",
    "import torch\n",
    "from torchvision import transforms, datasets\n",
    "from sklearn.metrics import confusion_matrix\n",
    "\n",
    "from Models.Snowstorm.train import initialize_model, train_model\n",
    "from Models.Snowstorm.helper import leading_zeros, show, rand_crop, create_and_save_crops\n",
    "from Models.Snowstorm.constants import RESEARCH_DIR, CROP_SIZE, INPUT_SIZE, DATA_DIR, NUM_EPOCHS, BATCH_SIZE, \\\n",
    "    MODEL_NAME, FEATURE_EXTRACT\n",
    "from Models.Snowstorm.intervals import all_clears, all_storms\n",
    "from Models.Snowstorm.cf_matrix import make_confusion_matrix"
   ]
  },
  {
   "cell_type": "markdown",
   "metadata": {
    "pycharm": {
     "name": "#%% md\n"
    }
   },
   "source": [
    "### Example Images"
   ]
  },
  {
   "cell_type": "code",
   "execution_count": 3,
   "metadata": {
    "pycharm": {
     "name": "#%%\n"
    }
   },
   "outputs": [
    {
     "ename": "FileNotFoundError",
     "evalue": "[Errno 2] No such file or directory: '/csse/research/antarctica_seals/scott_base/2018-19/cropped/CameraC'",
     "output_type": "error",
     "traceback": [
      "\u001b[0;31m---------------------------------------------------------------------------\u001b[0m",
      "\u001b[0;31mFileNotFoundError\u001b[0m                         Traceback (most recent call last)",
      "\u001b[1;32m/home/fdi19/new_env/SENG402/storm_detection.ipynb Cell 12\u001b[0m in \u001b[0;36m<cell line: 4>\u001b[0;34m()\u001b[0m\n\u001b[1;32m      <a href='vscode-notebook-cell://ssh-remote%2Bbeef/home/fdi19/new_env/SENG402/storm_detection.ipynb#X14sdnNjb2RlLXJlbW90ZQ%3D%3D?line=0'>1</a>\u001b[0m camera_id \u001b[39m=\u001b[39m \u001b[39m'\u001b[39m\u001b[39mC\u001b[39m\u001b[39m'\u001b[39m\n\u001b[1;32m      <a href='vscode-notebook-cell://ssh-remote%2Bbeef/home/fdi19/new_env/SENG402/storm_detection.ipynb#X14sdnNjb2RlLXJlbW90ZQ%3D%3D?line=2'>3</a>\u001b[0m img_dir \u001b[39m=\u001b[39m \u001b[39mf\u001b[39m\u001b[39m'\u001b[39m\u001b[39m{\u001b[39;00mRESEARCH_DIR\u001b[39m}\u001b[39;00m\u001b[39m/Camera\u001b[39m\u001b[39m{\u001b[39;00mcamera_id\u001b[39m}\u001b[39;00m\u001b[39m'\u001b[39m\n\u001b[0;32m----> <a href='vscode-notebook-cell://ssh-remote%2Bbeef/home/fdi19/new_env/SENG402/storm_detection.ipynb#X14sdnNjb2RlLXJlbW90ZQ%3D%3D?line=3'>4</a>\u001b[0m filename \u001b[39m=\u001b[39m random\u001b[39m.\u001b[39mchoice(os\u001b[39m.\u001b[39;49mlistdir(img_dir))\n\u001b[1;32m      <a href='vscode-notebook-cell://ssh-remote%2Bbeef/home/fdi19/new_env/SENG402/storm_detection.ipynb#X14sdnNjb2RlLXJlbW90ZQ%3D%3D?line=4'>5</a>\u001b[0m path \u001b[39m=\u001b[39m os\u001b[39m.\u001b[39mpath\u001b[39m.\u001b[39mjoin(img_dir, filename)\n\u001b[1;32m      <a href='vscode-notebook-cell://ssh-remote%2Bbeef/home/fdi19/new_env/SENG402/storm_detection.ipynb#X14sdnNjb2RlLXJlbW90ZQ%3D%3D?line=6'>7</a>\u001b[0m img \u001b[39m=\u001b[39m cv2\u001b[39m.\u001b[39mimread(path)\n",
      "\u001b[0;31mFileNotFoundError\u001b[0m: [Errno 2] No such file or directory: '/csse/research/antarctica_seals/scott_base/2018-19/cropped/CameraC'"
     ]
    }
   ],
   "source": [
    "camera_id = 'C'\n",
    "\n",
    "img_dir = f'{RESEARCH_DIR}/Camera{camera_id}'\n",
    "filename = random.choice(os.listdir(img_dir))\n",
    "path = os.path.join(img_dir, filename)\n",
    "\n",
    "img = cv2.imread(path)\n",
    "show(img, title=filename)\n",
    "for _ in range(2):\n",
    "    cropped_image = rand_crop(img, CROP_SIZE)\n",
    "    show(cropped_image)"
   ]
  },
  {
   "cell_type": "markdown",
   "metadata": {
    "tags": []
   },
   "source": [
    "## Preperation"
   ]
  },
  {
   "cell_type": "markdown",
   "metadata": {
    "tags": []
   },
   "source": [
    "### Print Dataset Size"
   ]
  },
  {
   "cell_type": "code",
   "execution_count": 8,
   "metadata": {
    "pycharm": {
     "name": "#%%\n"
    }
   },
   "outputs": [
    {
     "name": "stdout",
     "output_type": "stream",
     "text": [
      "Total Storm Images: 388\n",
      "Camera A: 146\n",
      "Camera B: 145\n",
      "Camera C: 97\n",
      "\n",
      "Total Clear Images: 505\n",
      "Camera A: 168\n",
      "Camera B: 185\n",
      "Camera C: 152\n"
     ]
    }
   ],
   "source": [
    "def count(data):\n",
    "    total_count = 0\n",
    "    cam_counts = {}\n",
    "    for cam_id, storms in data.items():\n",
    "        cam_counts[cam_id] = 0\n",
    "        cam_count = 0  # Count of storm/clear images per Camera\n",
    "        for _, intervals in storms:\n",
    "            for start, end in intervals:\n",
    "                cam_counts[cam_id] += (end - start + 1)\n",
    "    return cam_counts\n",
    "\n",
    "all_storms_counts = count(all_storms)\n",
    "print(f'Total Storm Images: {sum(all_storms_counts.values())}')\n",
    "print('\\n'.join([f'Camera {k}: {v}' for k, v in all_storms_counts.items()]))\n",
    "\n",
    "all_clears_counts = count(all_clears)\n",
    "print(f'\\nTotal Clear Images: {sum(all_clears_counts.values())}')\n",
    "print('\\n'.join([f'Camera {k}: {v}' for k, v in all_clears_counts.items()]))"
   ]
  },
  {
   "cell_type": "markdown",
   "metadata": {
    "pycharm": {
     "name": "#%% md\n"
    },
    "tags": []
   },
   "source": [
    "### Create Augmentations\n",
    "#### Remove existing data"
   ]
  },
  {
   "cell_type": "code",
   "execution_count": 7,
   "metadata": {
    "pycharm": {
     "name": "#%%\n"
    }
   },
   "outputs": [],
   "source": [
    "!find data/ ! -name '.*' ! -type d -exec rm -- {} +"
   ]
  },
  {
   "cell_type": "markdown",
   "metadata": {},
   "source": [
    "#### Create new data"
   ]
  },
  {
   "cell_type": "code",
   "execution_count": 9,
   "metadata": {
    "pycharm": {
     "name": "#%%\n"
    }
   },
   "outputs": [
    {
     "name": "stdout",
     "output_type": "stream",
     "text": [
      "146 images of storm/clear from Camera A\n",
      "730 total augmentations saved to 'data/all/storm'\n",
      "\n",
      "145 images of storm/clear from Camera B\n",
      "725 total augmentations saved to 'data/all/storm'\n",
      "\n",
      "97 images of storm/clear from Camera C\n",
      "485 total augmentations saved to 'data/all/storm'\n",
      "\n",
      "Total augmentation count: 1940\n",
      "\n",
      "168 images of storm/clear from Camera A\n",
      "840 total augmentations saved to 'data/all/clear'\n",
      "\n",
      "185 images of storm/clear from Camera B\n",
      "925 total augmentations saved to 'data/all/clear'\n",
      "\n",
      "152 images of storm/clear from Camera C\n",
      "760 total augmentations saved to 'data/all/clear'\n",
      "\n",
      "Total augmentation count: 2525\n",
      "\n"
     ]
    }
   ],
   "source": [
    "create_and_save_crops(is_storm=True)\n",
    "create_and_save_crops(is_storm=False)"
   ]
  },
  {
   "cell_type": "markdown",
   "metadata": {
    "pycharm": {
     "name": "#%% md\n"
    }
   },
   "source": [
    "### Split Data\n",
    "Split data into Training Validation and Testing sets."
   ]
  },
  {
   "cell_type": "code",
   "execution_count": 11,
   "metadata": {
    "pycharm": {
     "name": "#%%\n"
    }
   },
   "outputs": [
    {
     "name": "stdout",
     "output_type": "stream",
     "text": [
      "Total Storm Images: 1940\n",
      "70%: 1358.00\n",
      "15%: 291.00\n",
      "\n",
      "Total Clear Images: 2360\n",
      "70%: 1652.00\n",
      "15%: 354.00\n"
     ]
    }
   ],
   "source": [
    "!ls data/all/storm | wc -l | xargs -i echo 'Total Storm Images: {}'\n",
    "!ls data/all/storm | wc -l | xargs -i echo  '{} * 0.70' | bc | xargs -i echo '70%: {}'\n",
    "!ls data/all/storm | wc -l | xargs -i echo  '{} * 0.15' | bc | xargs -i echo '15%: {}'\n",
    "\n",
    "!echo\n",
    "!ls data/all/clear | wc -l | xargs -i echo 'Total Clear Images: {}'\n",
    "!ls data/all/clear | wc -l | xargs -i echo  '{} * 0.70' | bc | xargs -i echo '70%: {}'\n",
    "!ls data/all/clear | wc -l | xargs -i echo  '{} * 0.15' | bc | xargs -i echo '15%: {}'"
   ]
  },
  {
   "cell_type": "code",
   "execution_count": 12,
   "metadata": {
    "pycharm": {
     "name": "#%%\n"
    }
   },
   "outputs": [],
   "source": [
    "!cd data && ls all/storm | shuf -n 1358 | xargs -i mv all/storm/{} train/storm\n",
    "!cd data && ls all/storm | shuf -n 291 | xargs -i mv all/storm/{} val/storm\n",
    "!cd data && ls all/storm | shuf -n 291 | xargs -i mv all/storm/{} test/storm\n",
    "\n",
    "!cd data && ls all/clear | shuf -n 1652 | xargs -i mv all/clear/{} train/clear\n",
    "!cd data && ls all/clear | shuf -n 354 | xargs -i mv all/clear/{} val/clear\n",
    "!cd data && ls all/clear | shuf -n 354 | xargs -i mv all/clear/{} test/clear"
   ]
  },
  {
   "cell_type": "markdown",
   "metadata": {
    "pycharm": {
     "name": "#%% md\n"
    },
    "tags": []
   },
   "source": [
    "## Train Model"
   ]
  },
  {
   "cell_type": "code",
   "execution_count": 14,
   "metadata": {
    "pycharm": {
     "name": "#%%\n"
    }
   },
   "outputs": [],
   "source": [
    "# Data augmentation and normalization for training\n",
    "# Just normalization for validation\n",
    "data_transforms = {\n",
    "    'train': transforms.Compose([\n",
    "        transforms.RandomResizedCrop(INPUT_SIZE),\n",
    "        transforms.RandomHorizontalFlip(),\n",
    "        transforms.ToTensor(),\n",
    "        transforms.Normalize([0.485, 0.456, 0.406], [0.229, 0.224, 0.225])\n",
    "    ]),\n",
    "    'val': transforms.Compose([\n",
    "        transforms.Resize(INPUT_SIZE),\n",
    "        transforms.CenterCrop(INPUT_SIZE),\n",
    "        transforms.ToTensor(),\n",
    "        transforms.Normalize([0.485, 0.456, 0.406], [0.229, 0.224, 0.225])\n",
    "    ]),\n",
    "    'test': transforms.Compose([\n",
    "        transforms.Resize(INPUT_SIZE),\n",
    "        transforms.CenterCrop(INPUT_SIZE),\n",
    "        transforms.ToTensor(),\n",
    "        transforms.Normalize([0.485, 0.456, 0.406], [0.229, 0.224, 0.225])\n",
    "    ]),\n",
    "}\n",
    "\n",
    "# Create training and validation datasets\n",
    "image_datasets = {x: datasets.ImageFolder(os.path.join(DATA_DIR, x), data_transforms[x]) for x in ['train', 'val', 'test']}\n",
    "# Create training and validation dataloaders\n",
    "dataloaders_dict = {x: torch.utils.data.DataLoader(image_datasets[x], batch_size=BATCH_SIZE, shuffle=True, num_workers=4) for x in ['train', 'val', 'test']}\n",
    "\n",
    "# Detect if we have a GPU available\n",
    "device = torch.device(\"cuda:0\" if torch.cuda.is_available() else \"cpu\")"
   ]
  },
  {
   "cell_type": "code",
   "execution_count": 15,
   "metadata": {
    "pycharm": {
     "name": "#%%\n"
    }
   },
   "outputs": [
    {
     "name": "stdout",
     "output_type": "stream",
     "text": [
      "Params to learn:\n",
      "\t fc.weight\n",
      "\t fc.bias\n"
     ]
    }
   ],
   "source": [
    "# Initialize the model for this run\n",
    "model = initialize_model(use_pretrained=True)\n",
    "\n",
    "# Send the model to GPU\n",
    "model = model.to(device)\n",
    "\n",
    "# Gather the parameters to be optimized/updated in this run. If we are\n",
    "#  finetuning we will be updating all parameters. However, if we are \n",
    "#  doing feature extract method, we will only update the parameters\n",
    "#  that we have just initialized, i.e. the parameters with requires_grad\n",
    "#  is True.\n",
    "params_to_update = model.parameters()\n",
    "print(\"Params to learn:\")\n",
    "if FEATURE_EXTRACT:\n",
    "    params_to_update = []\n",
    "    for name,param in model.named_parameters():\n",
    "        if param.requires_grad == True:\n",
    "            params_to_update.append(param)\n",
    "            print(\"\\t\",name)\n",
    "else:\n",
    "    for name,param in model.named_parameters():\n",
    "        if param.requires_grad == True:\n",
    "            print(\"\\t\",name)\n",
    "\n",
    "# Observe that all parameters are being optimized\n",
    "optimizer_ft = torch.optim.SGD(params_to_update, lr=0.001, momentum=0.9)"
   ]
  },
  {
   "cell_type": "markdown",
   "metadata": {},
   "source": [
    "### Start Training & Graph Progress"
   ]
  },
  {
   "cell_type": "code",
   "execution_count": 15,
   "metadata": {
    "pycharm": {
     "name": "#%%\n"
    }
   },
   "outputs": [
    {
     "name": "stdout",
     "output_type": "stream",
     "text": [
      "Epoch 0/14\n",
      "----------\n",
      "train Loss: 0.3000 Acc: 0.8708 F1: 0.8556\n",
      "val Loss: 0.1001 Acc: 0.9643 F1: 0.9594\n",
      "\n",
      "Epoch 1/14\n",
      "----------\n",
      "train Loss: 0.2479 Acc: 0.9063 F1: 0.8956\n",
      "val Loss: 0.1098 Acc: 0.9643 F1: 0.9608\n",
      "\n",
      "Epoch 2/14\n",
      "----------\n",
      "train Loss: 0.2396 Acc: 0.9037 F1: 0.8930\n",
      "val Loss: 0.0921 Acc: 0.9659 F1: 0.9610\n",
      "\n",
      "Epoch 3/14\n",
      "----------\n",
      "train Loss: 0.2268 Acc: 0.9156 F1: 0.9067\n",
      "val Loss: 0.0878 Acc: 0.9752 F1: 0.9719\n",
      "\n",
      "Epoch 4/14\n",
      "----------\n",
      "train Loss: 0.2452 Acc: 0.9096 F1: 0.8999\n",
      "val Loss: 0.0826 Acc: 0.9752 F1: 0.9719\n",
      "\n",
      "Epoch 5/14\n",
      "----------\n",
      "train Loss: 0.2117 Acc: 0.9159 F1: 0.9070\n",
      "val Loss: 0.0784 Acc: 0.9783 F1: 0.9754\n",
      "\n",
      "Epoch 6/14\n",
      "----------\n",
      "train Loss: 0.2253 Acc: 0.9143 F1: 0.9048\n",
      "val Loss: 0.0723 Acc: 0.9752 F1: 0.9726\n",
      "\n",
      "Epoch 7/14\n",
      "----------\n",
      "train Loss: 0.2294 Acc: 0.9113 F1: 0.9013\n",
      "val Loss: 0.0717 Acc: 0.9767 F1: 0.9743\n",
      "\n",
      "Epoch 8/14\n",
      "----------\n",
      "train Loss: 0.2313 Acc: 0.9136 F1: 0.9038\n",
      "val Loss: 0.1053 Acc: 0.9674 F1: 0.9628\n",
      "\n",
      "Epoch 9/14\n",
      "----------\n",
      "train Loss: 0.2278 Acc: 0.9123 F1: 0.9027\n",
      "val Loss: 0.0814 Acc: 0.9767 F1: 0.9736\n",
      "\n",
      "Epoch 10/14\n",
      "----------\n",
      "train Loss: 0.2186 Acc: 0.9163 F1: 0.9069\n",
      "val Loss: 0.0745 Acc: 0.9783 F1: 0.9757\n",
      "\n",
      "Epoch 11/14\n",
      "----------\n",
      "train Loss: 0.2534 Acc: 0.9033 F1: 0.8933\n",
      "val Loss: 0.0770 Acc: 0.9783 F1: 0.9756\n",
      "\n",
      "Epoch 12/14\n",
      "----------\n",
      "train Loss: 0.2220 Acc: 0.9133 F1: 0.9037\n",
      "val Loss: 0.0878 Acc: 0.9690 F1: 0.9647\n",
      "\n",
      "Epoch 13/14\n",
      "----------\n",
      "train Loss: 0.2587 Acc: 0.9063 F1: 0.8960\n",
      "val Loss: 0.1419 Acc: 0.9628 F1: 0.9571\n",
      "\n",
      "Epoch 14/14\n",
      "----------\n",
      "train Loss: 0.2213 Acc: 0.9213 F1: 0.9130\n",
      "val Loss: 0.0696 Acc: 0.9783 F1: 0.9757\n",
      "\n",
      "Training complete in 2m 27s\n",
      "Best val Acc: 0.978295\n"
     ]
    },
    {
     "data": {
      "image/png": "[encoded data removed]",
      "text/plain": [
       "<Figure size 432x288 with 1 Axes>"
      ]
     },
     "metadata": {
      "needs_background": "light"
     },
     "output_type": "display_data"
    }
   ],
   "source": [
    "# Setup the loss fxn\n",
    "criterion = torch.nn.CrossEntropyLoss()\n",
    "\n",
    "# Train and evaluate\n",
    "model, hist = train_model(model, dataloaders_dict, criterion, optimizer_ft, device, num_epochs=NUM_EPOCHS, is_inception=(MODEL_NAME==\"inception\"))\n",
    "\n",
    "# Plot improvement\n",
    "acc_hist, f1_hist = zip(*hist)\n",
    "plt.title(\"Model evaluation during training\")\n",
    "plt.xlabel(\"Training Epochs\")\n",
    "plt.ylabel(\"F1-Score\")\n",
    "# plt.plot(range(1,NUM_EPOCHS+1),acc_hist,label=\"Accuracy\")\n",
    "plt.plot(range(1,NUM_EPOCHS+1),f1_hist,label=\"F1 Score\")\n",
    "plt.xticks(np.arange(1, NUM_EPOCHS+1, 1.0))\n",
    "plt.legend()\n",
    "plt.show()"
   ]
  },
  {
   "cell_type": "markdown",
   "metadata": {
    "pycharm": {
     "name": "#%% md\n"
    }
   },
   "source": [
    "### Save Model"
   ]
  },
  {
   "cell_type": "code",
   "execution_count": 159,
   "metadata": {
    "pycharm": {
     "name": "#%%\n"
    }
   },
   "outputs": [],
   "source": [
    "torch.save(model.state_dict(), './storm_model.pt')"
   ]
  },
  {
   "cell_type": "markdown",
   "metadata": {
    "pycharm": {
     "name": "#%% md\n"
    }
   },
   "source": [
    "### Load Model"
   ]
  },
  {
   "cell_type": "code",
   "execution_count": 16,
   "metadata": {
    "pycharm": {
     "name": "#%%\n"
    }
   },
   "outputs": [
    {
     "data": {
      "text/plain": [
       "ResNet(\n",
       "  (conv1): Conv2d(3, 64, kernel_size=(7, 7), stride=(2, 2), padding=(3, 3), bias=False)\n",
       "  (bn1): BatchNorm2d(64, eps=1e-05, momentum=0.1, affine=True, track_running_stats=True)\n",
       "  (relu): ReLU(inplace=True)\n",
       "  (maxpool): MaxPool2d(kernel_size=3, stride=2, padding=1, dilation=1, ceil_mode=False)\n",
       "  (layer1): Sequential(\n",
       "    (0): BasicBlock(\n",
       "      (conv1): Conv2d(64, 64, kernel_size=(3, 3), stride=(1, 1), padding=(1, 1), bias=False)\n",
       "      (bn1): BatchNorm2d(64, eps=1e-05, momentum=0.1, affine=True, track_running_stats=True)\n",
       "      (relu): ReLU(inplace=True)\n",
       "      (conv2): Conv2d(64, 64, kernel_size=(3, 3), stride=(1, 1), padding=(1, 1), bias=False)\n",
       "      (bn2): BatchNorm2d(64, eps=1e-05, momentum=0.1, affine=True, track_running_stats=True)\n",
       "    )\n",
       "    (1): BasicBlock(\n",
       "      (conv1): Conv2d(64, 64, kernel_size=(3, 3), stride=(1, 1), padding=(1, 1), bias=False)\n",
       "      (bn1): BatchNorm2d(64, eps=1e-05, momentum=0.1, affine=True, track_running_stats=True)\n",
       "      (relu): ReLU(inplace=True)\n",
       "      (conv2): Conv2d(64, 64, kernel_size=(3, 3), stride=(1, 1), padding=(1, 1), bias=False)\n",
       "      (bn2): BatchNorm2d(64, eps=1e-05, momentum=0.1, affine=True, track_running_stats=True)\n",
       "    )\n",
       "  )\n",
       "  (layer2): Sequential(\n",
       "    (0): BasicBlock(\n",
       "      (conv1): Conv2d(64, 128, kernel_size=(3, 3), stride=(2, 2), padding=(1, 1), bias=False)\n",
       "      (bn1): BatchNorm2d(128, eps=1e-05, momentum=0.1, affine=True, track_running_stats=True)\n",
       "      (relu): ReLU(inplace=True)\n",
       "      (conv2): Conv2d(128, 128, kernel_size=(3, 3), stride=(1, 1), padding=(1, 1), bias=False)\n",
       "      (bn2): BatchNorm2d(128, eps=1e-05, momentum=0.1, affine=True, track_running_stats=True)\n",
       "      (downsample): Sequential(\n",
       "        (0): Conv2d(64, 128, kernel_size=(1, 1), stride=(2, 2), bias=False)\n",
       "        (1): BatchNorm2d(128, eps=1e-05, momentum=0.1, affine=True, track_running_stats=True)\n",
       "      )\n",
       "    )\n",
       "    (1): BasicBlock(\n",
       "      (conv1): Conv2d(128, 128, kernel_size=(3, 3), stride=(1, 1), padding=(1, 1), bias=False)\n",
       "      (bn1): BatchNorm2d(128, eps=1e-05, momentum=0.1, affine=True, track_running_stats=True)\n",
       "      (relu): ReLU(inplace=True)\n",
       "      (conv2): Conv2d(128, 128, kernel_size=(3, 3), stride=(1, 1), padding=(1, 1), bias=False)\n",
       "      (bn2): BatchNorm2d(128, eps=1e-05, momentum=0.1, affine=True, track_running_stats=True)\n",
       "    )\n",
       "  )\n",
       "  (layer3): Sequential(\n",
       "    (0): BasicBlock(\n",
       "      (conv1): Conv2d(128, 256, kernel_size=(3, 3), stride=(2, 2), padding=(1, 1), bias=False)\n",
       "      (bn1): BatchNorm2d(256, eps=1e-05, momentum=0.1, affine=True, track_running_stats=True)\n",
       "      (relu): ReLU(inplace=True)\n",
       "      (conv2): Conv2d(256, 256, kernel_size=(3, 3), stride=(1, 1), padding=(1, 1), bias=False)\n",
       "      (bn2): BatchNorm2d(256, eps=1e-05, momentum=0.1, affine=True, track_running_stats=True)\n",
       "      (downsample): Sequential(\n",
       "        (0): Conv2d(128, 256, kernel_size=(1, 1), stride=(2, 2), bias=False)\n",
       "        (1): BatchNorm2d(256, eps=1e-05, momentum=0.1, affine=True, track_running_stats=True)\n",
       "      )\n",
       "    )\n",
       "    (1): BasicBlock(\n",
       "      (conv1): Conv2d(256, 256, kernel_size=(3, 3), stride=(1, 1), padding=(1, 1), bias=False)\n",
       "      (bn1): BatchNorm2d(256, eps=1e-05, momentum=0.1, affine=True, track_running_stats=True)\n",
       "      (relu): ReLU(inplace=True)\n",
       "      (conv2): Conv2d(256, 256, kernel_size=(3, 3), stride=(1, 1), padding=(1, 1), bias=False)\n",
       "      (bn2): BatchNorm2d(256, eps=1e-05, momentum=0.1, affine=True, track_running_stats=True)\n",
       "    )\n",
       "  )\n",
       "  (layer4): Sequential(\n",
       "    (0): BasicBlock(\n",
       "      (conv1): Conv2d(256, 512, kernel_size=(3, 3), stride=(2, 2), padding=(1, 1), bias=False)\n",
       "      (bn1): BatchNorm2d(512, eps=1e-05, momentum=0.1, affine=True, track_running_stats=True)\n",
       "      (relu): ReLU(inplace=True)\n",
       "      (conv2): Conv2d(512, 512, kernel_size=(3, 3), stride=(1, 1), padding=(1, 1), bias=False)\n",
       "      (bn2): BatchNorm2d(512, eps=1e-05, momentum=0.1, affine=True, track_running_stats=True)\n",
       "      (downsample): Sequential(\n",
       "        (0): Conv2d(256, 512, kernel_size=(1, 1), stride=(2, 2), bias=False)\n",
       "        (1): BatchNorm2d(512, eps=1e-05, momentum=0.1, affine=True, track_running_stats=True)\n",
       "      )\n",
       "    )\n",
       "    (1): BasicBlock(\n",
       "      (conv1): Conv2d(512, 512, kernel_size=(3, 3), stride=(1, 1), padding=(1, 1), bias=False)\n",
       "      (bn1): BatchNorm2d(512, eps=1e-05, momentum=0.1, affine=True, track_running_stats=True)\n",
       "      (relu): ReLU(inplace=True)\n",
       "      (conv2): Conv2d(512, 512, kernel_size=(3, 3), stride=(1, 1), padding=(1, 1), bias=False)\n",
       "      (bn2): BatchNorm2d(512, eps=1e-05, momentum=0.1, affine=True, track_running_stats=True)\n",
       "    )\n",
       "  )\n",
       "  (avgpool): AdaptiveAvgPool2d(output_size=(1, 1))\n",
       "  (fc): Linear(in_features=512, out_features=2, bias=True)\n",
       ")"
      ]
     },
     "execution_count": 16,
     "metadata": {},
     "output_type": "execute_result"
    }
   ],
   "source": [
    "model = initialize_model(use_pretrained=True)\n",
    "model = model.to(device)\n",
    "model.load_state_dict(torch.load('./storm_model.pt'))\n",
    "model.eval()"
   ]
  },
  {
   "cell_type": "markdown",
   "metadata": {
    "tags": []
   },
   "source": [
    "## Evaluation"
   ]
  },
  {
   "cell_type": "markdown",
   "metadata": {
    "tags": []
   },
   "source": [
    "### Accuracy"
   ]
  },
  {
   "cell_type": "code",
   "execution_count": 17,
   "metadata": {
    "pycharm": {
     "name": "#%%\n"
    }
   },
   "outputs": [
    {
     "name": "stdout",
     "output_type": "stream",
     "text": [
      "97.21% Accuracy\n"
     ]
    }
   ],
   "source": [
    "correct = 0\n",
    "total = 0\n",
    "classes = ['clear', 'storm']\n",
    "for _class in classes:\n",
    "    data_dir = 'data/test/' + _class\n",
    "    files = os.listdir(data_dir)\n",
    "    total += len(files)\n",
    "    for file in files:  \n",
    "        path = os.path.join(data_dir, file)    \n",
    "\n",
    "        img = Image.open(path)\n",
    "\n",
    "        img_t = data_transforms['val'](img)\n",
    "        batch_t = torch.unsqueeze(img_t, 0)\n",
    "        batch_t = batch_t.to(device)\n",
    "\n",
    "        model.eval()\n",
    "\n",
    "        out = model(batch_t)\n",
    "\n",
    "        percentage = torch.nn.functional.softmax(out, dim=1)[0] * 100\n",
    "        _, index = torch.max(out, 1)\n",
    "\n",
    "        if classes[index[0]] == _class:\n",
    "            correct += 1\n",
    "#         else:\n",
    "#             show(np.asarray(img), scale=2, rgb_convert=False, title=f'{file.split(\".\")[0]} {classes[index[0]]} {percentage[index[0]].item():.2f}%')\n",
    "\n",
    "print(f'{correct / total * 100:.2f}% Accuracy')"
   ]
  },
  {
   "cell_type": "markdown",
   "metadata": {
    "tags": []
   },
   "source": [
    "### Test Random Image"
   ]
  },
  {
   "cell_type": "code",
   "execution_count": 19,
   "metadata": {
    "pycharm": {
     "name": "#%%\n"
    }
   },
   "outputs": [
    {
     "data": {
      "image/png": "[encoded data removed]",
      "text/plain": [
       "<Figure size 216x216 with 1 Axes>"
      ]
     },
     "metadata": {
      "needs_background": "light"
     },
     "output_type": "display_data"
    }
   ],
   "source": [
    "classes = ['clear', 'storm']\n",
    "data_dir = 'data/test'\n",
    "_class = random.choice(classes)\n",
    "path = f'{data_dir}/{_class}/'\n",
    "file = random.choice(os.listdir(path))\n",
    "path += file\n",
    "img = Image.open(path)\n",
    "\n",
    "img_t = data_transforms['val'](img)\n",
    "batch_t = torch.unsqueeze(img_t, 0)\n",
    "batch_t = batch_t.to(device)\n",
    "\n",
    "model.eval()\n",
    "out = model(batch_t)\n",
    "\n",
    "percentage = torch.nn.functional.softmax(out, dim=1)[0] * 100\n",
    "_, index = torch.max(out, 1)\n",
    "\n",
    "show(np.asarray(img), rgb_convert=False, title=f'{_class} is {classes[index]} {percentage[index[0]].item():.0f}%')"
   ]
  },
  {
   "cell_type": "markdown",
   "metadata": {},
   "source": [
    "### Confusion Matrix"
   ]
  },
  {
   "cell_type": "code",
   "execution_count": 20,
   "metadata": {
    "pycharm": {
     "name": "#%%\n"
    },
    "scrolled": true
   },
   "outputs": [
    {
     "data": {
      "image/png": "[encoded data removed]",
      "text/plain": [
       "<Figure size 432x288 with 2 Axes>"
      ]
     },
     "metadata": {
      "needs_background": "light"
     },
     "output_type": "display_data"
    }
   ],
   "source": [
    "y_pred = []\n",
    "y_true = []\n",
    "\n",
    "model.eval()\n",
    "for inputs, labels in dataloaders_dict['test']:\n",
    "    inputs = inputs.to(device)\n",
    "    labels = labels.to(device)\n",
    "\n",
    "    output = model(inputs)\n",
    "    output = (torch.max(torch.exp(output), 1)[1]).data.cpu().numpy()\n",
    "    y_pred.extend(output) # Save Prediction\n",
    "\n",
    "    labels = labels.data.cpu().numpy()\n",
    "    y_true.extend(labels) # Save Truth\n",
    "\n",
    "# constant for classes\n",
    "classes = ['Clear', 'Storm']\n",
    "\n",
    "# Build confusion matrix\n",
    "cf_matrix = confusion_matrix(y_true, y_pred)\n",
    "\n",
    "group_names = ['True Neg','False Pos','False Neg','True Pos']\n",
    "make_confusion_matrix(cf_matrix, \n",
    "                      group_names=group_names,\n",
    "                      categories=classes)"
   ]
  }
 ],
 "metadata": {
  "kernelspec": {
   "display_name": "Python 3.8.13 ('new_env')",
   "language": "python",
   "name": "python3"
  },
  "language_info": {
   "codemirror_mode": {
    "name": "ipython",
    "version": 3
   },
   "file_extension": ".py",
   "mimetype": "text/x-python",
   "name": "python",
   "nbconvert_exporter": "python",
   "pygments_lexer": "ipython3",
   "version": "3.8.13"
  },
  "vscode": {
   "interpreter": {
    "hash": "bbdf36e45b76bee38b2c1f5f5c2f29be83275c0d89e4d01f5fefa5e521a75316"
   }
  }
 },
 "nbformat": 4,
 "nbformat_minor": 4
}

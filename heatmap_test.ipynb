{
 "cells": [
  {
   "cell_type": "code",
   "execution_count": 7,
   "metadata": {},
   "outputs": [],
   "source": [
    "from libs.heatmappy.heatmappy.heatmap import Heatmapper\n",
    "from libs.heatmappy.heatmappy.video import VideoHeatmapper\n",
    "from PIL import Image\n",
    "\n"
   ]
  },
  {
   "cell_type": "code",
   "execution_count": null,
   "metadata": {},
   "outputs": [],
   "source": [
    "example_points = [(100, 20), (120, 25), (200, 50), (60, 300), (170, 250)]\n",
    "example_img_path = '/home/fdi19/SENG402/data/images/scott_base/2021-22/2022-01-23T13_33_48.jpg'\n",
    "example_img = Image.open(example_img_path)\n",
    "\n",
    "heatmapper = Heatmapper()\n",
    "heatmap = heatmapper.heatmap_on_img(example_points, example_img)\n",
    "heatmap.save('heatmap.png')"
   ]
  },
  {
   "cell_type": "code",
   "execution_count": null,
   "metadata": {},
   "outputs": [],
   "source": [
    "example_vid = 'timelapse_sm.mp4'\n",
    "example_points = [(100, 100, 1000), (112, 92, 1000), (17, 100, 1000), (100, 100, 1000), (100, 100, 1000)]\n",
    "\n",
    "img_heatmapper = Heatmapper()\n",
    "video_heatmapper = VideoHeatmapper(img_heatmapper)\n",
    "\n",
    "heatmap_video = video_heatmapper.heatmap_on_video_path(\n",
    "    video_path=example_vid,\n",
    "    points=example_points,\n",
    "    keep_heat=True,\n",
    "    heat_decay_s=20,\n",
    ")\n",
    "\n",
    "heatmap_video.write_videofile('out.mp4', bitrate=\"5000k\", fps=24)"
   ]
  }
 ],
 "metadata": {
  "kernelspec": {
   "display_name": "Python 3.8.13 64-bit ('venv')",
   "language": "python",
   "name": "python3"
  },
  "language_info": {
   "codemirror_mode": {
    "name": "ipython",
    "version": 3
   },
   "file_extension": ".py",
   "mimetype": "text/x-python",
   "name": "python",
   "nbconvert_exporter": "python",
   "pygments_lexer": "ipython3",
   "version": "3.8.13"
  },
  "orig_nbformat": 4,
  "vscode": {
   "interpreter": {
    "hash": "9b4c2485baffbf9018786e72be4cd8f63d37d944b57f61b8eddd8d97a01b822c"
   }
  }
 },
 "nbformat": 4,
 "nbformat_minor": 2
}

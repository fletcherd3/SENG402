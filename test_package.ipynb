{
 "cells": [
  {
   "cell_type": "code",
   "execution_count": 1,
   "metadata": {},
   "outputs": [
    {
     "name": "stderr",
     "output_type": "stream",
     "text": [
      "/home/fdi19/miniconda3/envs/new_env/lib/python3.8/site-packages/tqdm/auto.py:22: TqdmWarning: IProgress not found. Please update jupyter and ipywidgets. See https://ipywidgets.readthedocs.io/en/stable/user_install.html\n",
      "  from .autonotebook import tqdm as notebook_tqdm\n",
      "/home/fdi19/miniconda3/envs/new_env/lib/python3.8/site-packages/torchvision/models/_utils.py:208: UserWarning: The parameter 'pretrained' is deprecated since 0.13 and will be removed in 0.15, please use 'weights' instead.\n",
      "  warnings.warn(\n",
      "/home/fdi19/miniconda3/envs/new_env/lib/python3.8/site-packages/torchvision/models/_utils.py:223: UserWarning: Arguments other than a weight enum or `None` for 'weights' are deprecated since 0.13 and will be removed in 0.15. The current behavior is equivalent to passing `weights=ResNet18_Weights.IMAGENET1K_V1`. You can also use `weights=ResNet18_Weights.DEFAULT` to get the most up-to-date weights.\n",
      "  warnings.warn(msg)\n"
     ]
    }
   ],
   "source": [
    "%matplotlib inline\n",
    "%load_ext tensorboard\n",
    "\n",
    "import torch\n",
    "import os\n",
    "from libs.tools.image import cv\n",
    "from libs.tools import struct\n",
    "from Models.Seals.checkpoint import load_model\n",
    "from Models.Seals.evaluate import evaluate_image\n",
    "from Models.Seals.detection import display, detection_table, box\n",
    "from matplotlib import pyplot as plt\n",
    "import matplotlib.dates as mdates\n",
    "import random\n",
    "\n",
    "import Models.Seals.evaluate\n",
    "from Models.Seals.dataset.imports import load_dataset\n",
    "from Models.Seals.dataset.detection import collate_batch\n",
    "from torch.utils.data.dataloader import DataLoader\n",
    "\n",
    "import datetime as dt\n",
    "import csv\n",
    "\n",
    "out_dir = \"./Models/Seals/log/Seals_2021-22\"\n",
    "model, encoder, args = load_model(f\"{out_dir}/model.pth\")\n",
    "device = torch.cuda.current_device()\n",
    "model = model.to(device)\n",
    "encoder = encoder.to(device)\n",
    "classes = args.dataset.classes"
   ]
  },
  {
   "cell_type": "code",
   "execution_count": null,
   "metadata": {},
   "outputs": [],
   "source": [
    "sdf"
   ]
  }
 ],
 "metadata": {
  "kernelspec": {
   "display_name": "Python 3.8.13 ('new_env')",
   "language": "python",
   "name": "python3"
  },
  "language_info": {
   "codemirror_mode": {
    "name": "ipython",
    "version": 3
   },
   "file_extension": ".py",
   "mimetype": "text/x-python",
   "name": "python",
   "nbconvert_exporter": "python",
   "pygments_lexer": "ipython3",
   "version": "3.8.13"
  },
  "orig_nbformat": 4,
  "vscode": {
   "interpreter": {
    "hash": "bbdf36e45b76bee38b2c1f5f5c2f29be83275c0d89e4d01f5fefa5e521a75316"
   }
  }
 },
 "nbformat": 4,
 "nbformat_minor": 2
}
